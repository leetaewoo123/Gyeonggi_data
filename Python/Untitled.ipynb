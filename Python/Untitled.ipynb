{
 "cells": [
  {
   "cell_type": "code",
   "execution_count": 1,
   "id": "a880b561",
   "metadata": {},
   "outputs": [],
   "source": [
    "a=[x for x in range (1,101)]"
   ]
  },
  {
   "cell_type": "code",
   "execution_count": 19,
   "id": "40cbc723",
   "metadata": {},
   "outputs": [
    {
     "name": "stdout",
     "output_type": "stream",
     "text": [
      "[2, 4, 6, 8, 10, 12, 14, 16, 18, 20, 22, 24, 26, 28, 30, 32, 34, 36, 38, 40, 42, 44, 46, 48, 50, 52, 54, 56, 58, 60, 62, 64, 66, 68, 70, 72, 74, 76, 78, 80, 82, 84, 86, 88, 90, 92, 94, 96, 98, 100]\n"
     ]
    }
   ],
   "source": [
    "print(a[1:100:2])"
   ]
  },
  {
   "cell_type": "code",
   "execution_count": 20,
   "id": "7c681cd4",
   "metadata": {},
   "outputs": [],
   "source": [
    "a = [99,87,45]\n",
    "b = [43,53,56]\n",
    "c = [11,23,55]"
   ]
  },
  {
   "cell_type": "code",
   "execution_count": 21,
   "id": "10a38ecb",
   "metadata": {},
   "outputs": [],
   "source": [
    "s = [a,b,c]"
   ]
  },
  {
   "cell_type": "code",
   "execution_count": 26,
   "id": "4fbf2fc1",
   "metadata": {},
   "outputs": [],
   "source": [
    "s[0].append(-1)"
   ]
  },
  {
   "cell_type": "code",
   "execution_count": 29,
   "id": "4433b7db",
   "metadata": {},
   "outputs": [],
   "source": [
    "s[1].append(-2)"
   ]
  },
  {
   "cell_type": "code",
   "execution_count": 28,
   "id": "81b205dd",
   "metadata": {},
   "outputs": [],
   "source": [
    "s[2].append(-3)"
   ]
  },
  {
   "cell_type": "code",
   "execution_count": 33,
   "id": "91a7b902",
   "metadata": {},
   "outputs": [],
   "source": [
    "s[1][-1]=22"
   ]
  },
  {
   "cell_type": "code",
   "execution_count": 38,
   "id": "033b0ac2",
   "metadata": {},
   "outputs": [
    {
     "name": "stdout",
     "output_type": "stream",
     "text": [
      "[45, -1]\n",
      "[56, 22]\n",
      "[55, 37]\n"
     ]
    }
   ],
   "source": [
    "for i in range (3):\n",
    "    print(s[i][-2:])"
   ]
  },
  {
   "cell_type": "code",
   "execution_count": 4,
   "id": "46c9ed46",
   "metadata": {},
   "outputs": [
    {
     "name": "stdout",
     "output_type": "stream",
     "text": [
      "18\n",
      "81\n"
     ]
    }
   ],
   "source": [
    "a=[10,32,31,52,55,23,536,18,81]\n",
    "for i in range(len(a)):\n",
    "    if \"8\" in str(a[i]):\n",
    "        print(a[i])"
   ]
  },
  {
   "cell_type": "code",
   "execution_count": 50,
   "id": "5d5e0b22",
   "metadata": {},
   "outputs": [
    {
     "data": {
      "text/plain": [
       "list"
      ]
     },
     "execution_count": 50,
     "metadata": {},
     "output_type": "execute_result"
    }
   ],
   "source": []
  },
  {
   "cell_type": "code",
   "execution_count": null,
   "id": "b41e1501",
   "metadata": {},
   "outputs": [],
   "source": []
  }
 ],
 "metadata": {
  "kernelspec": {
   "display_name": "Python 3 (ipykernel)",
   "language": "python",
   "name": "python3"
  },
  "language_info": {
   "codemirror_mode": {
    "name": "ipython",
    "version": 3
   },
   "file_extension": ".py",
   "mimetype": "text/x-python",
   "name": "python",
   "nbconvert_exporter": "python",
   "pygments_lexer": "ipython3",
   "version": "3.9.12"
  }
 },
 "nbformat": 4,
 "nbformat_minor": 5
}
