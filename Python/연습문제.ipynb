{
 "cells": [
  {
   "cell_type": "code",
   "execution_count": 47,
   "id": "e9bf8716",
   "metadata": {},
   "outputs": [
    {
     "name": "stdout",
     "output_type": "stream",
     "text": [
      "나이를 입력하세요 : 59\n",
      "터넷\n"
     ]
    }
   ],
   "source": [
    "age = int(input(\"나이를 입력하세요 : \"))\n",
    "\n",
    "movie = [\"어벤져스\", \"뮬란\", \"터넷\",'오!문희']\n",
    "\n",
    "if age<20:\n",
    "    best = \"어벤져스, 뮬란\"\n",
    "    \n",
    "if age>=20:\n",
    "    best = \"뮬란, 터넷, 오!문희\"    \n",
    "    \n",
    "if age>=40:\n",
    "    best=\"터넷\"\n",
    "    \n",
    "if age>=60:\n",
    "    best=\"오!문희\"\n",
    "\n",
    "print(best)"
   ]
  },
  {
   "cell_type": "code",
   "execution_count": 48,
   "id": "d0852379",
   "metadata": {},
   "outputs": [
    {
     "name": "stdout",
     "output_type": "stream",
     "text": [
      "출발지 입력 : 대전\n",
      "도착지 입력 : 대구\n",
      "경로가 존재합니다.\n"
     ]
    }
   ],
   "source": [
    "start = input(\"출발지 입력 : \")\n",
    "end = input(\"도착지 입력 : \")\n",
    "\n",
    "city = {\"서울\":[\"대구\",\"대전\",\"부산\"], \"대구\":[\"서울\",\"부산\"], \"대전\":[\"대구\"],\"부산\":[\"서울\",\"대전\"]}\n",
    "\n",
    "if end in city[start]:\n",
    "    print(\"경로가 존재합니다.\")\n",
    "else : print(\"경로가 존재하지 않습니다.\")\n"
   ]
  },
  {
   "cell_type": "code",
   "execution_count": null,
   "id": "5a168613",
   "metadata": {},
   "outputs": [],
   "source": []
  }
 ],
 "metadata": {
  "kernelspec": {
   "display_name": "Python 3 (ipykernel)",
   "language": "python",
   "name": "python3"
  },
  "language_info": {
   "codemirror_mode": {
    "name": "ipython",
    "version": 3
   },
   "file_extension": ".py",
   "mimetype": "text/x-python",
   "name": "python",
   "nbconvert_exporter": "python",
   "pygments_lexer": "ipython3",
   "version": "3.9.12"
  }
 },
 "nbformat": 4,
 "nbformat_minor": 5
}
