{
 "cells": [
  {
   "cell_type": "markdown",
   "id": "bcbdfbc9",
   "metadata": {},
   "source": [
    "# 사방사업현황 vs 산사태발생"
   ]
  },
  {
   "cell_type": "code",
   "execution_count": null,
   "id": "db251d8e",
   "metadata": {},
   "outputs": [],
   "source": [
    "사방사업현황 -> 경기도 산사태위험지역을 대상으로 해마다 진행되는 사방사업 현황입니다.\n",
    "\n",
    "가설 : 태양광발전소, 터널 및 도로 등 건설은 산사태에 영향을 줄 것이다.\n",
    "-> 산사태 많은 지역 혹은 위험지역과 사방사업현황을 비교\n",
    "-> 적절한 지역에 사방사업이 진행되고 있는지를 분석\n",
    "-> 시군구명을 기준으로 합계사업비와 산사태발생횟수를 비교"
   ]
  },
  {
   "cell_type": "code",
   "execution_count": 29,
   "id": "67bd0e67",
   "metadata": {},
   "outputs": [],
   "source": [
    "# 경고메세지 제거\n",
    "import warnings\n",
    "warnings.filterwarnings('ignore')\n",
    "\n",
    "# 모듈 import\n",
    "import pandas as pd\n",
    "import numpy as np\n",
    "import matplotlib.pyplot as plt\n",
    "import seaborn as sns\n",
    "from matplotlib import rc\n",
    "\n",
    "# 한글처리\n",
    "rc('font', family='AppleGothic')\n",
    "plt.rcParams['axes.unicode_minus'] = False"
   ]
  },
  {
   "cell_type": "markdown",
   "id": "cd2d8cfa",
   "metadata": {},
   "source": [
    "# 사방사업현황"
   ]
  },
  {
   "cell_type": "markdown",
   "id": "463fdca7",
   "metadata": {},
   "source": [
    "## 데이터셋 로드"
   ]
  },
  {
   "cell_type": "code",
   "execution_count": 56,
   "id": "3f7cd133",
   "metadata": {},
   "outputs": [],
   "source": [
    "df = pd.read_csv('사방사업현황.csv', encoding ='euc-kr')"
   ]
  },
  {
   "cell_type": "markdown",
   "id": "90265f52",
   "metadata": {},
   "source": [
    "## 데이터 특성 확인"
   ]
  },
  {
   "cell_type": "code",
   "execution_count": 57,
   "id": "afc46ec4",
   "metadata": {},
   "outputs": [
    {
     "data": {
      "text/html": [
       "<div>\n",
       "<style scoped>\n",
       "    .dataframe tbody tr th:only-of-type {\n",
       "        vertical-align: middle;\n",
       "    }\n",
       "\n",
       "    .dataframe tbody tr th {\n",
       "        vertical-align: top;\n",
       "    }\n",
       "\n",
       "    .dataframe thead th {\n",
       "        text-align: right;\n",
       "    }\n",
       "</style>\n",
       "<table border=\"1\" class=\"dataframe\">\n",
       "  <thead>\n",
       "    <tr style=\"text-align: right;\">\n",
       "      <th></th>\n",
       "      <th>사업완료년도</th>\n",
       "      <th>관리번호</th>\n",
       "      <th>시행상위기관명</th>\n",
       "      <th>시행하위기관명</th>\n",
       "      <th>시공소재지시도명</th>\n",
       "      <th>시공소재지시군구명</th>\n",
       "      <th>시공소재지읍면동명</th>\n",
       "      <th>시공소재지리명</th>\n",
       "      <th>국비(백만원)</th>\n",
       "      <th>지방비(백만원)</th>\n",
       "      <th>합계사업비(백만원)</th>\n",
       "    </tr>\n",
       "  </thead>\n",
       "  <tbody>\n",
       "    <tr>\n",
       "      <th>0</th>\n",
       "      <td>2018</td>\n",
       "      <td>경기-00838</td>\n",
       "      <td>경기도</td>\n",
       "      <td>산림환경연구소</td>\n",
       "      <td>경기도</td>\n",
       "      <td>김포</td>\n",
       "      <td>통진</td>\n",
       "      <td>서암</td>\n",
       "      <td>50.0</td>\n",
       "      <td>22.0</td>\n",
       "      <td>72.0</td>\n",
       "    </tr>\n",
       "  </tbody>\n",
       "</table>\n",
       "</div>"
      ],
      "text/plain": [
       "   사업완료년도      관리번호 시행상위기관명  시행하위기관명 시공소재지시도명 시공소재지시군구명 시공소재지읍면동명 시공소재지리명  \\\n",
       "0    2018  경기-00838     경기도  산림환경연구소      경기도        김포        통진      서암   \n",
       "\n",
       "   국비(백만원)  지방비(백만원)  합계사업비(백만원)  \n",
       "0     50.0      22.0        72.0  "
      ]
     },
     "execution_count": 57,
     "metadata": {},
     "output_type": "execute_result"
    }
   ],
   "source": [
    "df.head(1)"
   ]
  },
  {
   "cell_type": "code",
   "execution_count": 58,
   "id": "1c8b64e2",
   "metadata": {},
   "outputs": [
    {
     "name": "stdout",
     "output_type": "stream",
     "text": [
      "<class 'pandas.core.frame.DataFrame'>\n",
      "RangeIndex: 900 entries, 0 to 899\n",
      "Data columns (total 11 columns):\n",
      " #   Column      Non-Null Count  Dtype  \n",
      "---  ------      --------------  -----  \n",
      " 0   사업완료년도      900 non-null    int64  \n",
      " 1   관리번호        883 non-null    object \n",
      " 2   시행상위기관명     900 non-null    object \n",
      " 3   시행하위기관명     900 non-null    object \n",
      " 4   시공소재지시도명    900 non-null    object \n",
      " 5   시공소재지시군구명   900 non-null    object \n",
      " 6   시공소재지읍면동명   830 non-null    object \n",
      " 7   시공소재지리명     857 non-null    object \n",
      " 8   국비(백만원)     571 non-null    float64\n",
      " 9   지방비(백만원)    571 non-null    float64\n",
      " 10  합계사업비(백만원)  680 non-null    float64\n",
      "dtypes: float64(3), int64(1), object(7)\n",
      "memory usage: 77.5+ KB\n"
     ]
    }
   ],
   "source": [
    "df.info()"
   ]
  },
  {
   "cell_type": "code",
   "execution_count": 59,
   "id": "5376d148",
   "metadata": {},
   "outputs": [
    {
     "data": {
      "text/html": [
       "<div>\n",
       "<style scoped>\n",
       "    .dataframe tbody tr th:only-of-type {\n",
       "        vertical-align: middle;\n",
       "    }\n",
       "\n",
       "    .dataframe tbody tr th {\n",
       "        vertical-align: top;\n",
       "    }\n",
       "\n",
       "    .dataframe thead th {\n",
       "        text-align: right;\n",
       "    }\n",
       "</style>\n",
       "<table border=\"1\" class=\"dataframe\">\n",
       "  <thead>\n",
       "    <tr style=\"text-align: right;\">\n",
       "      <th></th>\n",
       "      <th>사업완료년도</th>\n",
       "      <th>국비(백만원)</th>\n",
       "      <th>지방비(백만원)</th>\n",
       "      <th>합계사업비(백만원)</th>\n",
       "    </tr>\n",
       "  </thead>\n",
       "  <tbody>\n",
       "    <tr>\n",
       "      <th>count</th>\n",
       "      <td>900.000000</td>\n",
       "      <td>571.000000</td>\n",
       "      <td>571.000000</td>\n",
       "      <td>680.000000</td>\n",
       "    </tr>\n",
       "    <tr>\n",
       "      <th>mean</th>\n",
       "      <td>2010.542222</td>\n",
       "      <td>120.483187</td>\n",
       "      <td>50.509632</td>\n",
       "      <td>157.758824</td>\n",
       "    </tr>\n",
       "    <tr>\n",
       "      <th>std</th>\n",
       "      <td>6.956515</td>\n",
       "      <td>69.677010</td>\n",
       "      <td>31.157402</td>\n",
       "      <td>96.295985</td>\n",
       "    </tr>\n",
       "    <tr>\n",
       "      <th>min</th>\n",
       "      <td>1986.000000</td>\n",
       "      <td>10.000000</td>\n",
       "      <td>0.000000</td>\n",
       "      <td>6.000000</td>\n",
       "    </tr>\n",
       "    <tr>\n",
       "      <th>25%</th>\n",
       "      <td>2007.000000</td>\n",
       "      <td>72.500000</td>\n",
       "      <td>29.000000</td>\n",
       "      <td>96.000000</td>\n",
       "    </tr>\n",
       "    <tr>\n",
       "      <th>50%</th>\n",
       "      <td>2013.000000</td>\n",
       "      <td>103.000000</td>\n",
       "      <td>42.000000</td>\n",
       "      <td>136.000000</td>\n",
       "    </tr>\n",
       "    <tr>\n",
       "      <th>75%</th>\n",
       "      <td>2015.000000</td>\n",
       "      <td>158.000000</td>\n",
       "      <td>65.500000</td>\n",
       "      <td>200.000000</td>\n",
       "    </tr>\n",
       "    <tr>\n",
       "      <th>max</th>\n",
       "      <td>2018.000000</td>\n",
       "      <td>675.000000</td>\n",
       "      <td>289.000000</td>\n",
       "      <td>964.000000</td>\n",
       "    </tr>\n",
       "  </tbody>\n",
       "</table>\n",
       "</div>"
      ],
      "text/plain": [
       "            사업완료년도     국비(백만원)    지방비(백만원)  합계사업비(백만원)\n",
       "count   900.000000  571.000000  571.000000  680.000000\n",
       "mean   2010.542222  120.483187   50.509632  157.758824\n",
       "std       6.956515   69.677010   31.157402   96.295985\n",
       "min    1986.000000   10.000000    0.000000    6.000000\n",
       "25%    2007.000000   72.500000   29.000000   96.000000\n",
       "50%    2013.000000  103.000000   42.000000  136.000000\n",
       "75%    2015.000000  158.000000   65.500000  200.000000\n",
       "max    2018.000000  675.000000  289.000000  964.000000"
      ]
     },
     "execution_count": 59,
     "metadata": {},
     "output_type": "execute_result"
    }
   ],
   "source": [
    "df.describe()"
   ]
  },
  {
   "cell_type": "code",
   "execution_count": 60,
   "id": "c12244f7",
   "metadata": {},
   "outputs": [
    {
     "data": {
      "text/plain": [
       "(900, 11)"
      ]
     },
     "execution_count": 60,
     "metadata": {},
     "output_type": "execute_result"
    }
   ],
   "source": [
    "df.shape"
   ]
  },
  {
   "cell_type": "code",
   "execution_count": 61,
   "id": "4c48e975",
   "metadata": {},
   "outputs": [
    {
     "data": {
      "text/plain": [
       "사업완료년도          0\n",
       "관리번호           17\n",
       "시행상위기관명         0\n",
       "시행하위기관명         0\n",
       "시공소재지시도명        0\n",
       "시공소재지시군구명       0\n",
       "시공소재지읍면동명      70\n",
       "시공소재지리명        43\n",
       "국비(백만원)       329\n",
       "지방비(백만원)      329\n",
       "합계사업비(백만원)    220\n",
       "dtype: int64"
      ]
     },
     "execution_count": 61,
     "metadata": {},
     "output_type": "execute_result"
    }
   ],
   "source": [
    "df.isnull().sum()"
   ]
  },
  {
   "cell_type": "code",
   "execution_count": 62,
   "id": "aedaa0c9",
   "metadata": {},
   "outputs": [
    {
     "data": {
      "text/plain": [
       "2012    120\n",
       "2014    118\n",
       "2013    100\n",
       "2016     66\n",
       "2017     66\n",
       "2018     61\n",
       "2015     61\n",
       "2007     38\n",
       "2010     27\n",
       "2005     27\n",
       "2006     23\n",
       "2011     22\n",
       "2009     20\n",
       "1999     16\n",
       "2001     14\n",
       "2008     13\n",
       "2004     12\n",
       "2003     12\n",
       "2002     11\n",
       "1997      9\n",
       "1990      8\n",
       "1998      7\n",
       "1989      7\n",
       "1995      6\n",
       "1986      6\n",
       "1991      5\n",
       "1988      5\n",
       "2000      4\n",
       "1996      4\n",
       "1993      4\n",
       "1994      3\n",
       "1987      3\n",
       "1992      2\n",
       "Name: 사업완료년도, dtype: int64"
      ]
     },
     "execution_count": 62,
     "metadata": {},
     "output_type": "execute_result"
    }
   ],
   "source": [
    "df['사업완료년도'].value_counts()"
   ]
  },
  {
   "cell_type": "code",
   "execution_count": 63,
   "id": "3737f151",
   "metadata": {},
   "outputs": [
    {
     "data": {
      "text/plain": [
       "2018"
      ]
     },
     "execution_count": 63,
     "metadata": {},
     "output_type": "execute_result"
    }
   ],
   "source": [
    "max(df['사업완료년도'])"
   ]
  },
  {
   "cell_type": "markdown",
   "id": "4ea5bcad",
   "metadata": {},
   "source": [
    "## 데이터 전처리"
   ]
  },
  {
   "cell_type": "markdown",
   "id": "99fd462c",
   "metadata": {},
   "source": [
    "### 사업완료년도 2013~2018년도로 추출"
   ]
  },
  {
   "cell_type": "code",
   "execution_count": 64,
   "id": "8404fc85",
   "metadata": {},
   "outputs": [],
   "source": [
    "df_copy = df.copy()"
   ]
  },
  {
   "cell_type": "code",
   "execution_count": 65,
   "id": "758c6750",
   "metadata": {},
   "outputs": [],
   "source": [
    "df = df.loc[df['사업완료년도'] >= 2013]"
   ]
  },
  {
   "cell_type": "code",
   "execution_count": 66,
   "id": "60928368",
   "metadata": {},
   "outputs": [
    {
     "data": {
      "text/plain": [
       "2014    118\n",
       "2013    100\n",
       "2017     66\n",
       "2016     66\n",
       "2018     61\n",
       "2015     61\n",
       "Name: 사업완료년도, dtype: int64"
      ]
     },
     "execution_count": 66,
     "metadata": {},
     "output_type": "execute_result"
    }
   ],
   "source": [
    "df['사업완료년도'].value_counts()"
   ]
  },
  {
   "cell_type": "markdown",
   "id": "56c08189",
   "metadata": {},
   "source": [
    "### 결측치 처리 -> 합계사업비 널값에 국비+지방비으로 널값처리"
   ]
  },
  {
   "cell_type": "code",
   "execution_count": 67,
   "id": "4dd125df",
   "metadata": {},
   "outputs": [],
   "source": [
    "# 국비(백만원), 지방비(백만원) 널값 제거\n",
    "df = df.dropna(subset=['국비(백만원)', '지방비(백만원)'])\n",
    "\n",
    "\n",
    "# 합계 널값인 경우)\n",
    "# 1. 국비 지방비 존재o -> 합계 X -> 국비+지방비 합계로 대체\n",
    "# 2. 국비 지방비 존재x -> 합계 X -> 합계 0 => 사업 진행x (drop)\n",
    "\n",
    "# 발생지역 a) 산사태o + 사업 진행x -> merge에서 outer로 하면 확인 가능"
   ]
  },
  {
   "cell_type": "code",
   "execution_count": 68,
   "id": "d0d33f14",
   "metadata": {},
   "outputs": [
    {
     "data": {
      "text/plain": [
       "사업완료년도         0\n",
       "관리번호           0\n",
       "시행상위기관명        0\n",
       "시행하위기관명        0\n",
       "시공소재지시도명       0\n",
       "시공소재지시군구명      0\n",
       "시공소재지읍면동명     39\n",
       "시공소재지리명       19\n",
       "국비(백만원)        0\n",
       "지방비(백만원)       0\n",
       "합계사업비(백만원)    99\n",
       "dtype: int64"
      ]
     },
     "execution_count": 68,
     "metadata": {},
     "output_type": "execute_result"
    }
   ],
   "source": [
    "df.isnull().sum()"
   ]
  },
  {
   "cell_type": "code",
   "execution_count": 69,
   "id": "3680544f",
   "metadata": {},
   "outputs": [],
   "source": [
    "df['합계사업비(백만원)'] = df['국비(백만원)'] + df['지방비(백만원)']"
   ]
  },
  {
   "cell_type": "code",
   "execution_count": 70,
   "id": "e4eb0e18",
   "metadata": {},
   "outputs": [
    {
     "data": {
      "text/plain": [
       "사업완료년도         0\n",
       "관리번호           0\n",
       "시행상위기관명        0\n",
       "시행하위기관명        0\n",
       "시공소재지시도명       0\n",
       "시공소재지시군구명      0\n",
       "시공소재지읍면동명     39\n",
       "시공소재지리명       19\n",
       "국비(백만원)        0\n",
       "지방비(백만원)       0\n",
       "합계사업비(백만원)     0\n",
       "dtype: int64"
      ]
     },
     "execution_count": 70,
     "metadata": {},
     "output_type": "execute_result"
    }
   ],
   "source": [
    "df.isnull().sum()"
   ]
  },
  {
   "cell_type": "markdown",
   "id": "97efa690",
   "metadata": {},
   "source": [
    "### 불필요한 컬럼 제거"
   ]
  },
  {
   "cell_type": "code",
   "execution_count": 71,
   "id": "45101893",
   "metadata": {},
   "outputs": [],
   "source": [
    "df.drop(['사업완료년도', '관리번호', '시행상위기관명', '시행하위기관명', '시공소재지시도명', '시공소재지읍면동명', '시공소재지리명', '국비(백만원)', '지방비(백만원)'], axis=1, inplace=True)"
   ]
  },
  {
   "cell_type": "code",
   "execution_count": 72,
   "id": "8c7e3207",
   "metadata": {},
   "outputs": [
    {
     "data": {
      "text/html": [
       "<div>\n",
       "<style scoped>\n",
       "    .dataframe tbody tr th:only-of-type {\n",
       "        vertical-align: middle;\n",
       "    }\n",
       "\n",
       "    .dataframe tbody tr th {\n",
       "        vertical-align: top;\n",
       "    }\n",
       "\n",
       "    .dataframe thead th {\n",
       "        text-align: right;\n",
       "    }\n",
       "</style>\n",
       "<table border=\"1\" class=\"dataframe\">\n",
       "  <thead>\n",
       "    <tr style=\"text-align: right;\">\n",
       "      <th></th>\n",
       "      <th>시공소재지시군구명</th>\n",
       "      <th>합계사업비(백만원)</th>\n",
       "    </tr>\n",
       "  </thead>\n",
       "  <tbody>\n",
       "    <tr>\n",
       "      <th>0</th>\n",
       "      <td>김포</td>\n",
       "      <td>72.0</td>\n",
       "    </tr>\n",
       "  </tbody>\n",
       "</table>\n",
       "</div>"
      ],
      "text/plain": [
       "  시공소재지시군구명  합계사업비(백만원)\n",
       "0        김포        72.0"
      ]
     },
     "execution_count": 72,
     "metadata": {},
     "output_type": "execute_result"
    }
   ],
   "source": [
    "df.head(1)"
   ]
  },
  {
   "cell_type": "code",
   "execution_count": 73,
   "id": "d47dc361",
   "metadata": {},
   "outputs": [
    {
     "data": {
      "text/plain": [
       "시공소재지시군구명     0\n",
       "합계사업비(백만원)    0\n",
       "dtype: int64"
      ]
     },
     "execution_count": 73,
     "metadata": {},
     "output_type": "execute_result"
    }
   ],
   "source": [
    "df.isnull().sum()"
   ]
  },
  {
   "cell_type": "code",
   "execution_count": 74,
   "id": "52d657e3",
   "metadata": {},
   "outputs": [
    {
     "data": {
      "text/plain": [
       "(471, 2)"
      ]
     },
     "execution_count": 74,
     "metadata": {},
     "output_type": "execute_result"
    }
   ],
   "source": [
    "df.shape"
   ]
  },
  {
   "cell_type": "code",
   "execution_count": 75,
   "id": "3b91cf70",
   "metadata": {},
   "outputs": [],
   "source": [
    "df.rename(columns={'시공소재지시군구명':'지역명'},inplace=True)"
   ]
  },
  {
   "cell_type": "code",
   "execution_count": 76,
   "id": "d029723e",
   "metadata": {},
   "outputs": [],
   "source": [
    "#df = df.reset_index().rename(columns={\"index\":\"지역명\"})"
   ]
  },
  {
   "cell_type": "code",
   "execution_count": 78,
   "id": "3206833d",
   "metadata": {},
   "outputs": [
    {
     "data": {
      "text/html": [
       "<div>\n",
       "<style scoped>\n",
       "    .dataframe tbody tr th:only-of-type {\n",
       "        vertical-align: middle;\n",
       "    }\n",
       "\n",
       "    .dataframe tbody tr th {\n",
       "        vertical-align: top;\n",
       "    }\n",
       "\n",
       "    .dataframe thead th {\n",
       "        text-align: right;\n",
       "    }\n",
       "</style>\n",
       "<table border=\"1\" class=\"dataframe\">\n",
       "  <thead>\n",
       "    <tr style=\"text-align: right;\">\n",
       "      <th></th>\n",
       "      <th>지역명</th>\n",
       "      <th>합계사업비(백만원)</th>\n",
       "    </tr>\n",
       "  </thead>\n",
       "  <tbody>\n",
       "    <tr>\n",
       "      <th>0</th>\n",
       "      <td>김포</td>\n",
       "      <td>72.0</td>\n",
       "    </tr>\n",
       "    <tr>\n",
       "      <th>1</th>\n",
       "      <td>남양주</td>\n",
       "      <td>79.0</td>\n",
       "    </tr>\n",
       "    <tr>\n",
       "      <th>2</th>\n",
       "      <td>김포</td>\n",
       "      <td>134.0</td>\n",
       "    </tr>\n",
       "    <tr>\n",
       "      <th>3</th>\n",
       "      <td>군포</td>\n",
       "      <td>367.0</td>\n",
       "    </tr>\n",
       "    <tr>\n",
       "      <th>4</th>\n",
       "      <td>광주</td>\n",
       "      <td>230.0</td>\n",
       "    </tr>\n",
       "  </tbody>\n",
       "</table>\n",
       "</div>"
      ],
      "text/plain": [
       "   지역명  합계사업비(백만원)\n",
       "0   김포        72.0\n",
       "1  남양주        79.0\n",
       "2   김포       134.0\n",
       "3   군포       367.0\n",
       "4   광주       230.0"
      ]
     },
     "execution_count": 78,
     "metadata": {},
     "output_type": "execute_result"
    }
   ],
   "source": [
    "df.head()"
   ]
  },
  {
   "cell_type": "markdown",
   "id": "0e7078bc",
   "metadata": {},
   "source": [
    "# 산사태 현황"
   ]
  },
  {
   "cell_type": "markdown",
   "id": "07b1e4e5",
   "metadata": {},
   "source": [
    "## 데이터셋 로드"
   ]
  },
  {
   "cell_type": "code",
   "execution_count": 79,
   "id": "ed2e3bc2",
   "metadata": {},
   "outputs": [],
   "source": [
    "data = pd.read_csv('산사태_현황.csv')"
   ]
  },
  {
   "cell_type": "markdown",
   "id": "cf5baad7",
   "metadata": {},
   "source": [
    "## 데이터 특성 확인"
   ]
  },
  {
   "cell_type": "code",
   "execution_count": 80,
   "id": "4c953ddb",
   "metadata": {},
   "outputs": [
    {
     "data": {
      "text/html": [
       "<div>\n",
       "<style scoped>\n",
       "    .dataframe tbody tr th:only-of-type {\n",
       "        vertical-align: middle;\n",
       "    }\n",
       "\n",
       "    .dataframe tbody tr th {\n",
       "        vertical-align: top;\n",
       "    }\n",
       "\n",
       "    .dataframe thead th {\n",
       "        text-align: right;\n",
       "    }\n",
       "</style>\n",
       "<table border=\"1\" class=\"dataframe\">\n",
       "  <thead>\n",
       "    <tr style=\"text-align: right;\">\n",
       "      <th></th>\n",
       "      <th>시도명</th>\n",
       "      <th>읍면명</th>\n",
       "      <th>산사태피해면적</th>\n",
       "      <th>산사태재해명</th>\n",
       "      <th>산사태재해년도</th>\n",
       "      <th>시군구명</th>\n",
       "    </tr>\n",
       "  </thead>\n",
       "  <tbody>\n",
       "    <tr>\n",
       "      <th>0</th>\n",
       "      <td>경기도</td>\n",
       "      <td>단월면</td>\n",
       "      <td>3.15</td>\n",
       "      <td>7.28.~8.11.</td>\n",
       "      <td>2020</td>\n",
       "      <td>양평군</td>\n",
       "    </tr>\n",
       "  </tbody>\n",
       "</table>\n",
       "</div>"
      ],
      "text/plain": [
       "   시도명  읍면명  산사태피해면적       산사태재해명  산사태재해년도 시군구명\n",
       "0  경기도  단월면     3.15  7.28.~8.11.     2020  양평군"
      ]
     },
     "execution_count": 80,
     "metadata": {},
     "output_type": "execute_result"
    }
   ],
   "source": [
    "data.head(1)"
   ]
  },
  {
   "cell_type": "code",
   "execution_count": 81,
   "id": "425cb964",
   "metadata": {},
   "outputs": [
    {
     "name": "stdout",
     "output_type": "stream",
     "text": [
      "<class 'pandas.core.frame.DataFrame'>\n",
      "RangeIndex: 248 entries, 0 to 247\n",
      "Data columns (total 6 columns):\n",
      " #   Column   Non-Null Count  Dtype  \n",
      "---  ------   --------------  -----  \n",
      " 0   시도명      248 non-null    object \n",
      " 1   읍면명      248 non-null    object \n",
      " 2   산사태피해면적  248 non-null    float64\n",
      " 3   산사태재해명   248 non-null    object \n",
      " 4   산사태재해년도  248 non-null    int64  \n",
      " 5   시군구명     248 non-null    object \n",
      "dtypes: float64(1), int64(1), object(4)\n",
      "memory usage: 11.8+ KB\n"
     ]
    }
   ],
   "source": [
    "data.info()"
   ]
  },
  {
   "cell_type": "code",
   "execution_count": 82,
   "id": "43780acb",
   "metadata": {},
   "outputs": [
    {
     "data": {
      "text/html": [
       "<div>\n",
       "<style scoped>\n",
       "    .dataframe tbody tr th:only-of-type {\n",
       "        vertical-align: middle;\n",
       "    }\n",
       "\n",
       "    .dataframe tbody tr th {\n",
       "        vertical-align: top;\n",
       "    }\n",
       "\n",
       "    .dataframe thead th {\n",
       "        text-align: right;\n",
       "    }\n",
       "</style>\n",
       "<table border=\"1\" class=\"dataframe\">\n",
       "  <thead>\n",
       "    <tr style=\"text-align: right;\">\n",
       "      <th></th>\n",
       "      <th>산사태피해면적</th>\n",
       "      <th>산사태재해년도</th>\n",
       "    </tr>\n",
       "  </thead>\n",
       "  <tbody>\n",
       "    <tr>\n",
       "      <th>count</th>\n",
       "      <td>248.000000</td>\n",
       "      <td>248.000000</td>\n",
       "    </tr>\n",
       "    <tr>\n",
       "      <th>mean</th>\n",
       "      <td>0.675202</td>\n",
       "      <td>2019.818548</td>\n",
       "    </tr>\n",
       "    <tr>\n",
       "      <th>std</th>\n",
       "      <td>0.655024</td>\n",
       "      <td>0.572072</td>\n",
       "    </tr>\n",
       "    <tr>\n",
       "      <th>min</th>\n",
       "      <td>0.010000</td>\n",
       "      <td>2018.000000</td>\n",
       "    </tr>\n",
       "    <tr>\n",
       "      <th>25%</th>\n",
       "      <td>0.255000</td>\n",
       "      <td>2020.000000</td>\n",
       "    </tr>\n",
       "    <tr>\n",
       "      <th>50%</th>\n",
       "      <td>0.500000</td>\n",
       "      <td>2020.000000</td>\n",
       "    </tr>\n",
       "    <tr>\n",
       "      <th>75%</th>\n",
       "      <td>0.805000</td>\n",
       "      <td>2020.000000</td>\n",
       "    </tr>\n",
       "    <tr>\n",
       "      <th>max</th>\n",
       "      <td>3.430000</td>\n",
       "      <td>2020.000000</td>\n",
       "    </tr>\n",
       "  </tbody>\n",
       "</table>\n",
       "</div>"
      ],
      "text/plain": [
       "          산사태피해면적      산사태재해년도\n",
       "count  248.000000   248.000000\n",
       "mean     0.675202  2019.818548\n",
       "std      0.655024     0.572072\n",
       "min      0.010000  2018.000000\n",
       "25%      0.255000  2020.000000\n",
       "50%      0.500000  2020.000000\n",
       "75%      0.805000  2020.000000\n",
       "max      3.430000  2020.000000"
      ]
     },
     "execution_count": 82,
     "metadata": {},
     "output_type": "execute_result"
    }
   ],
   "source": [
    "data.describe()"
   ]
  },
  {
   "cell_type": "code",
   "execution_count": 83,
   "id": "a8c5554e",
   "metadata": {},
   "outputs": [
    {
     "data": {
      "text/plain": [
       "(248, 6)"
      ]
     },
     "execution_count": 83,
     "metadata": {},
     "output_type": "execute_result"
    }
   ],
   "source": [
    "data.shape"
   ]
  },
  {
   "cell_type": "code",
   "execution_count": 85,
   "id": "0b55dc35",
   "metadata": {},
   "outputs": [
    {
     "data": {
      "text/plain": [
       "2020    225\n",
       "2018     22\n",
       "2019      1\n",
       "Name: 산사태재해년도, dtype: int64"
      ]
     },
     "execution_count": 85,
     "metadata": {},
     "output_type": "execute_result"
    }
   ],
   "source": [
    "data['산사태재해년도'].value_counts()"
   ]
  },
  {
   "cell_type": "markdown",
   "id": "68d1e862",
   "metadata": {},
   "source": [
    "## 불필요한 칼럼 제거"
   ]
  },
  {
   "cell_type": "code",
   "execution_count": 86,
   "id": "d2322dc3",
   "metadata": {},
   "outputs": [],
   "source": [
    "# 원본 복사해두기\n",
    "data_copy = data.copy()"
   ]
  },
  {
   "cell_type": "code",
   "execution_count": 87,
   "id": "ffc500b8",
   "metadata": {},
   "outputs": [],
   "source": [
    "data.drop(['시도명', '읍면명', '산사태재해명', '산사태재해년도'], axis=1, inplace=True)"
   ]
  },
  {
   "cell_type": "code",
   "execution_count": 88,
   "id": "4e9ebffb",
   "metadata": {},
   "outputs": [
    {
     "data": {
      "text/html": [
       "<div>\n",
       "<style scoped>\n",
       "    .dataframe tbody tr th:only-of-type {\n",
       "        vertical-align: middle;\n",
       "    }\n",
       "\n",
       "    .dataframe tbody tr th {\n",
       "        vertical-align: top;\n",
       "    }\n",
       "\n",
       "    .dataframe thead th {\n",
       "        text-align: right;\n",
       "    }\n",
       "</style>\n",
       "<table border=\"1\" class=\"dataframe\">\n",
       "  <thead>\n",
       "    <tr style=\"text-align: right;\">\n",
       "      <th></th>\n",
       "      <th>산사태피해면적</th>\n",
       "      <th>시군구명</th>\n",
       "    </tr>\n",
       "  </thead>\n",
       "  <tbody>\n",
       "    <tr>\n",
       "      <th>0</th>\n",
       "      <td>3.15</td>\n",
       "      <td>양평군</td>\n",
       "    </tr>\n",
       "    <tr>\n",
       "      <th>1</th>\n",
       "      <td>2.57</td>\n",
       "      <td>양평군</td>\n",
       "    </tr>\n",
       "    <tr>\n",
       "      <th>2</th>\n",
       "      <td>2.28</td>\n",
       "      <td>양평군</td>\n",
       "    </tr>\n",
       "    <tr>\n",
       "      <th>3</th>\n",
       "      <td>2.19</td>\n",
       "      <td>양평군</td>\n",
       "    </tr>\n",
       "    <tr>\n",
       "      <th>4</th>\n",
       "      <td>1.96</td>\n",
       "      <td>이천시</td>\n",
       "    </tr>\n",
       "  </tbody>\n",
       "</table>\n",
       "</div>"
      ],
      "text/plain": [
       "   산사태피해면적 시군구명\n",
       "0     3.15  양평군\n",
       "1     2.57  양평군\n",
       "2     2.28  양평군\n",
       "3     2.19  양평군\n",
       "4     1.96  이천시"
      ]
     },
     "execution_count": 88,
     "metadata": {},
     "output_type": "execute_result"
    }
   ],
   "source": [
    "data.head()"
   ]
  },
  {
   "cell_type": "code",
   "execution_count": 89,
   "id": "dd09a436",
   "metadata": {},
   "outputs": [],
   "source": [
    "data.rename(columns={'시군구명':'지역명'},inplace=True)"
   ]
  },
  {
   "cell_type": "code",
   "execution_count": 91,
   "id": "17e96af0",
   "metadata": {},
   "outputs": [],
   "source": [
    "data = data['지역명'].value_counts().to_frame()"
   ]
  },
  {
   "cell_type": "code",
   "execution_count": 92,
   "id": "0929122e",
   "metadata": {},
   "outputs": [],
   "source": [
    "data.rename(columns={\"지역명\":'산사태발생횟수'},inplace=True)"
   ]
  },
  {
   "cell_type": "code",
   "execution_count": 93,
   "id": "2bec7c74",
   "metadata": {},
   "outputs": [],
   "source": [
    "data = data.reset_index().rename(columns={\"index\":\"지역명\"})"
   ]
  },
  {
   "cell_type": "code",
   "execution_count": 94,
   "id": "765cdac3",
   "metadata": {},
   "outputs": [
    {
     "data": {
      "text/html": [
       "<div>\n",
       "<style scoped>\n",
       "    .dataframe tbody tr th:only-of-type {\n",
       "        vertical-align: middle;\n",
       "    }\n",
       "\n",
       "    .dataframe tbody tr th {\n",
       "        vertical-align: top;\n",
       "    }\n",
       "\n",
       "    .dataframe thead th {\n",
       "        text-align: right;\n",
       "    }\n",
       "</style>\n",
       "<table border=\"1\" class=\"dataframe\">\n",
       "  <thead>\n",
       "    <tr style=\"text-align: right;\">\n",
       "      <th></th>\n",
       "      <th>지역명</th>\n",
       "      <th>산사태발생횟수</th>\n",
       "    </tr>\n",
       "  </thead>\n",
       "  <tbody>\n",
       "    <tr>\n",
       "      <th>0</th>\n",
       "      <td>안성시</td>\n",
       "      <td>94</td>\n",
       "    </tr>\n",
       "    <tr>\n",
       "      <th>1</th>\n",
       "      <td>이천시</td>\n",
       "      <td>45</td>\n",
       "    </tr>\n",
       "    <tr>\n",
       "      <th>2</th>\n",
       "      <td>연천군</td>\n",
       "      <td>24</td>\n",
       "    </tr>\n",
       "    <tr>\n",
       "      <th>3</th>\n",
       "      <td>용인시 처인구</td>\n",
       "      <td>24</td>\n",
       "    </tr>\n",
       "    <tr>\n",
       "      <th>4</th>\n",
       "      <td>가평군</td>\n",
       "      <td>19</td>\n",
       "    </tr>\n",
       "    <tr>\n",
       "      <th>5</th>\n",
       "      <td>양평군</td>\n",
       "      <td>16</td>\n",
       "    </tr>\n",
       "    <tr>\n",
       "      <th>6</th>\n",
       "      <td>양주시</td>\n",
       "      <td>10</td>\n",
       "    </tr>\n",
       "    <tr>\n",
       "      <th>7</th>\n",
       "      <td>포천시</td>\n",
       "      <td>5</td>\n",
       "    </tr>\n",
       "    <tr>\n",
       "      <th>8</th>\n",
       "      <td>김포시</td>\n",
       "      <td>3</td>\n",
       "    </tr>\n",
       "    <tr>\n",
       "      <th>9</th>\n",
       "      <td>파주시</td>\n",
       "      <td>2</td>\n",
       "    </tr>\n",
       "    <tr>\n",
       "      <th>10</th>\n",
       "      <td>여주시</td>\n",
       "      <td>2</td>\n",
       "    </tr>\n",
       "    <tr>\n",
       "      <th>11</th>\n",
       "      <td>용인시 수지구</td>\n",
       "      <td>1</td>\n",
       "    </tr>\n",
       "    <tr>\n",
       "      <th>12</th>\n",
       "      <td>평택시</td>\n",
       "      <td>1</td>\n",
       "    </tr>\n",
       "    <tr>\n",
       "      <th>13</th>\n",
       "      <td>하남시</td>\n",
       "      <td>1</td>\n",
       "    </tr>\n",
       "    <tr>\n",
       "      <th>14</th>\n",
       "      <td>남양주시</td>\n",
       "      <td>1</td>\n",
       "    </tr>\n",
       "  </tbody>\n",
       "</table>\n",
       "</div>"
      ],
      "text/plain": [
       "        지역명  산사태발생횟수\n",
       "0       안성시       94\n",
       "1       이천시       45\n",
       "2       연천군       24\n",
       "3   용인시 처인구       24\n",
       "4       가평군       19\n",
       "5       양평군       16\n",
       "6       양주시       10\n",
       "7       포천시        5\n",
       "8       김포시        3\n",
       "9       파주시        2\n",
       "10      여주시        2\n",
       "11  용인시 수지구        1\n",
       "12      평택시        1\n",
       "13      하남시        1\n",
       "14     남양주시        1"
      ]
     },
     "execution_count": 94,
     "metadata": {},
     "output_type": "execute_result"
    }
   ],
   "source": [
    "data"
   ]
  },
  {
   "cell_type": "code",
   "execution_count": 95,
   "id": "17096ba4",
   "metadata": {},
   "outputs": [],
   "source": [
    "tp = pd.merge(df, data, how='outer', on='지역명')"
   ]
  },
  {
   "cell_type": "code",
   "execution_count": 96,
   "id": "470afe41",
   "metadata": {},
   "outputs": [
    {
     "data": {
      "text/html": [
       "<div>\n",
       "<style scoped>\n",
       "    .dataframe tbody tr th:only-of-type {\n",
       "        vertical-align: middle;\n",
       "    }\n",
       "\n",
       "    .dataframe tbody tr th {\n",
       "        vertical-align: top;\n",
       "    }\n",
       "\n",
       "    .dataframe thead th {\n",
       "        text-align: right;\n",
       "    }\n",
       "</style>\n",
       "<table border=\"1\" class=\"dataframe\">\n",
       "  <thead>\n",
       "    <tr style=\"text-align: right;\">\n",
       "      <th></th>\n",
       "      <th>지역명</th>\n",
       "      <th>합계사업비(백만원)</th>\n",
       "      <th>산사태발생횟수</th>\n",
       "    </tr>\n",
       "  </thead>\n",
       "  <tbody>\n",
       "    <tr>\n",
       "      <th>0</th>\n",
       "      <td>김포</td>\n",
       "      <td>72.0</td>\n",
       "      <td>NaN</td>\n",
       "    </tr>\n",
       "    <tr>\n",
       "      <th>1</th>\n",
       "      <td>김포</td>\n",
       "      <td>134.0</td>\n",
       "      <td>NaN</td>\n",
       "    </tr>\n",
       "    <tr>\n",
       "      <th>2</th>\n",
       "      <td>김포</td>\n",
       "      <td>136.0</td>\n",
       "      <td>NaN</td>\n",
       "    </tr>\n",
       "    <tr>\n",
       "      <th>3</th>\n",
       "      <td>김포</td>\n",
       "      <td>271.0</td>\n",
       "      <td>NaN</td>\n",
       "    </tr>\n",
       "    <tr>\n",
       "      <th>4</th>\n",
       "      <td>김포</td>\n",
       "      <td>271.0</td>\n",
       "      <td>NaN</td>\n",
       "    </tr>\n",
       "    <tr>\n",
       "      <th>...</th>\n",
       "      <td>...</td>\n",
       "      <td>...</td>\n",
       "      <td>...</td>\n",
       "    </tr>\n",
       "    <tr>\n",
       "      <th>474</th>\n",
       "      <td>김포시</td>\n",
       "      <td>NaN</td>\n",
       "      <td>3.0</td>\n",
       "    </tr>\n",
       "    <tr>\n",
       "      <th>475</th>\n",
       "      <td>여주시</td>\n",
       "      <td>NaN</td>\n",
       "      <td>2.0</td>\n",
       "    </tr>\n",
       "    <tr>\n",
       "      <th>476</th>\n",
       "      <td>용인시 수지구</td>\n",
       "      <td>NaN</td>\n",
       "      <td>1.0</td>\n",
       "    </tr>\n",
       "    <tr>\n",
       "      <th>477</th>\n",
       "      <td>평택시</td>\n",
       "      <td>NaN</td>\n",
       "      <td>1.0</td>\n",
       "    </tr>\n",
       "    <tr>\n",
       "      <th>478</th>\n",
       "      <td>남양주시</td>\n",
       "      <td>NaN</td>\n",
       "      <td>1.0</td>\n",
       "    </tr>\n",
       "  </tbody>\n",
       "</table>\n",
       "<p>479 rows × 3 columns</p>\n",
       "</div>"
      ],
      "text/plain": [
       "         지역명  합계사업비(백만원)  산사태발생횟수\n",
       "0         김포        72.0      NaN\n",
       "1         김포       134.0      NaN\n",
       "2         김포       136.0      NaN\n",
       "3         김포       271.0      NaN\n",
       "4         김포       271.0      NaN\n",
       "..       ...         ...      ...\n",
       "474      김포시         NaN      3.0\n",
       "475      여주시         NaN      2.0\n",
       "476  용인시 수지구         NaN      1.0\n",
       "477      평택시         NaN      1.0\n",
       "478     남양주시         NaN      1.0\n",
       "\n",
       "[479 rows x 3 columns]"
      ]
     },
     "execution_count": 96,
     "metadata": {},
     "output_type": "execute_result"
    }
   ],
   "source": [
    "tp"
   ]
  },
  {
   "cell_type": "code",
   "execution_count": 99,
   "id": "767b05bf",
   "metadata": {},
   "outputs": [],
   "source": [
    "tp.to_csv('result.csv', index=False, )"
   ]
  },
  {
   "cell_type": "code",
   "execution_count": 98,
   "id": "928a3671",
   "metadata": {},
   "outputs": [
    {
     "ename": "AttributeError",
     "evalue": "'_csv.writer' object has no attribute 'writerrow'",
     "output_type": "error",
     "traceback": [
      "\u001b[0;31m---------------------------------------------------------------------------\u001b[0m",
      "\u001b[0;31mAttributeError\u001b[0m                            Traceback (most recent call last)",
      "Input \u001b[0;32mIn [98]\u001b[0m, in \u001b[0;36m<cell line: 5>\u001b[0;34m()\u001b[0m\n\u001b[1;32m      3\u001b[0m f \u001b[38;5;241m=\u001b[39m \u001b[38;5;28mopen\u001b[39m(\u001b[38;5;124m'\u001b[39m\u001b[38;5;124mresult.csv\u001b[39m\u001b[38;5;124m'\u001b[39m, \u001b[38;5;124m'\u001b[39m\u001b[38;5;124mw\u001b[39m\u001b[38;5;124m'\u001b[39m, newline\u001b[38;5;241m=\u001b[39m\u001b[38;5;124m'\u001b[39m\u001b[38;5;124m'\u001b[39m)\n\u001b[1;32m      4\u001b[0m wr \u001b[38;5;241m=\u001b[39m csv\u001b[38;5;241m.\u001b[39mwriter(f)\n\u001b[0;32m----> 5\u001b[0m \u001b[43mwr\u001b[49m\u001b[38;5;241;43m.\u001b[39;49m\u001b[43mwriterrow\u001b[49m(tp[\u001b[38;5;124m'\u001b[39m\u001b[38;5;124m지역명\u001b[39m\u001b[38;5;124m'\u001b[39m])\n\u001b[1;32m      7\u001b[0m f\u001b[38;5;241m.\u001b[39mclose()\n",
      "\u001b[0;31mAttributeError\u001b[0m: '_csv.writer' object has no attribute 'writerrow'"
     ]
    }
   ],
   "source": [
    "import csv\n",
    "\n",
    "f = open('result.csv', 'w', newline='')\n",
    "wr = csv.writer(f)\n",
    "wr.writerrow(tp['지역명'])\n",
    "\n",
    "f.close()"
   ]
  },
  {
   "cell_type": "code",
   "execution_count": null,
   "id": "fd69d4d5",
   "metadata": {},
   "outputs": [],
   "source": []
  }
 ],
 "metadata": {
  "kernelspec": {
   "display_name": "Python 3 (ipykernel)",
   "language": "python",
   "name": "python3"
  },
  "language_info": {
   "codemirror_mode": {
    "name": "ipython",
    "version": 3
   },
   "file_extension": ".py",
   "mimetype": "text/x-python",
   "name": "python",
   "nbconvert_exporter": "python",
   "pygments_lexer": "ipython3",
   "version": "3.9.12"
  }
 },
 "nbformat": 4,
 "nbformat_minor": 5
}
